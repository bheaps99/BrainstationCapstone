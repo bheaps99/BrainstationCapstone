{
 "cells": [
  {
   "cell_type": "markdown",
   "id": "9d60114d",
   "metadata": {},
   "source": [
    "## Automated Stats for Linear Regression of 3x3 Matrices"
   ]
  },
  {
   "cell_type": "markdown",
   "id": "82ea0700",
   "metadata": {},
   "source": [
    "Perform the right number of iterations to generate the mean for each inverse cell to be statistically different than the others with an acceptable p value with an ANOVA Test for Test 4 from previous notebook (LinearRegressionMatrixInverse.ipynb)"
   ]
  },
  {
   "cell_type": "markdown",
   "id": "570d66f4",
   "metadata": {},
   "source": [
    "Keep running regressions until the p value is below 0.05 - this can be adjusted in the variables should you desire but 0.05 is the standard for a reasonable anova to determine that the mean is reasonable"
   ]
  },
  {
   "cell_type": "markdown",
   "id": "715756a4",
   "metadata": {},
   "source": [
    "We know from the previous notebook results (3x3TestResults.doc) that the 4 tests keep increasing in r squared values so there is no need to run each test. We can focus on Test 4 anyways as it has the best results and we wish to determine an r squared value for this Test that is reasonable as different sets of random matrices always generate different r squared values demonstrating the highly nonlinear properties of this problem"
   ]
  },
  {
   "cell_type": "markdown",
   "id": "72bb871a",
   "metadata": {},
   "source": [
    "We need to run the regression many times as from the results of the previous notebook (LinearRegressionMatrixInverse.ipynb) we can see that the results vary significantly from different sets of matrices with randomly generated values. I will determine a mean r squared value for the Test 4 regression accross all cells."
   ]
  },
  {
   "cell_type": "code",
   "execution_count": null,
   "id": "cf7ba26f",
   "metadata": {},
   "outputs": [],
   "source": []
  },
  {
   "cell_type": "markdown",
   "id": "e26b2a3f",
   "metadata": {},
   "source": [
    "The code from LinearRegressionMatrixInverse.ipynb is condensed and functionalized to be loopable"
   ]
  },
  {
   "cell_type": "markdown",
   "id": "1ec70e47",
   "metadata": {},
   "source": [
    "## Table of Contents\n",
    "[1. Variables/Notebook Setup](#Step-1:-Variables/Notebook-setup) \n",
    "\n",
    "[2. Functions Setup](#Step-2:-Functions-Setup) <br>\n",
    "\n",
    "[3. Test Loop Section](#Step-3:-Test-Loop-Section) <br>\n",
    "\n",
    "[4. Results Analysis](#Step-4:-Results-Analysis) <br>\n",
    "\n",
    "[5. Conclusion](#Step-5:-Conclusion) <br> "
   ]
  },
  {
   "cell_type": "code",
   "execution_count": null,
   "id": "8a966955",
   "metadata": {},
   "outputs": [],
   "source": []
  },
  {
   "cell_type": "code",
   "execution_count": null,
   "id": "5be546e5",
   "metadata": {},
   "outputs": [],
   "source": []
  },
  {
   "cell_type": "markdown",
   "id": "d3524d9e",
   "metadata": {},
   "source": [
    "## Step 1: Variables/Notebook setup"
   ]
  },
  {
   "cell_type": "markdown",
   "id": "2900b410",
   "metadata": {},
   "source": [
    "minCellValue: the minimum value of each matrix element\n",
    "\n",
    "maxCellValue: the maximum value of each matrix element\n",
    "\n",
    "numMatricesToGenerate: the number of matrices to use, more matrices more reliable results, but longer execution time\n",
    "\n",
    "integersOnly: to use integers only in the tests\n",
    "\n",
    "Advnaced setup can be done with random seed to change the starting matrix elements random values generated"
   ]
  },
  {
   "cell_type": "code",
   "execution_count": 12,
   "id": "19e1a3e9",
   "metadata": {},
   "outputs": [],
   "source": [
    "minCellValue = 0\n",
    "maxCellValue = 6\n",
    "NumMatricesToGenerate = 3501\n",
    "integersOnly = True\n",
    "pvaluecutoff = 0.05"
   ]
  },
  {
   "cell_type": "code",
   "execution_count": null,
   "id": "1ab520da",
   "metadata": {},
   "outputs": [],
   "source": []
  },
  {
   "cell_type": "code",
   "execution_count": 13,
   "id": "319bd7dd",
   "metadata": {},
   "outputs": [],
   "source": [
    "#advanced setup - can be modified for certain runs with with notebook\n",
    "#mainly to test if the mean rsquared values flatten for cells\n",
    "randomSeed = 99911"
   ]
  },
  {
   "cell_type": "code",
   "execution_count": 14,
   "id": "342a4de6",
   "metadata": {},
   "outputs": [],
   "source": [
    "#import libraries/setup\n",
    "import numpy as np\n",
    "import pandas as pd\n",
    "import matplotlib.pyplot as plt\n",
    "import statsmodels.api as sm\n",
    "import scipy.stats as stats\n",
    "np.random.seed(randomSeed)"
   ]
  },
  {
   "cell_type": "code",
   "execution_count": 15,
   "id": "2985191d",
   "metadata": {},
   "outputs": [],
   "source": [
    "#variables to be used throughout this notebook\n",
    "matrixSize = 3\n",
    "listVar = list(range(matrixSize))\n",
    "inverseRangeMin = minCellValue - (maxCellValue-minCellValue)*100.0\n",
    "inverseRangeMax = maxCellValue + (maxCellValue-minCellValue)*100.0"
   ]
  },
  {
   "cell_type": "code",
   "execution_count": null,
   "id": "e30d2146",
   "metadata": {},
   "outputs": [],
   "source": []
  },
  {
   "cell_type": "markdown",
   "id": "6e8ffadd",
   "metadata": {},
   "source": [
    "## Step 2: Functions Setup"
   ]
  },
  {
   "cell_type": "code",
   "execution_count": 16,
   "id": "334728c2",
   "metadata": {},
   "outputs": [],
   "source": [
    "#remove columns from dataframe\n",
    "def dropCols(dflm):\n",
    "    dflm.drop('inverse00', axis=1, inplace=True)\n",
    "    dflm.drop('inverse01', axis=1, inplace=True)\n",
    "    dflm.drop('inverse02', axis=1, inplace=True)\n",
    "    dflm.drop('inverse10', axis=1, inplace=True)\n",
    "    dflm.drop('inverse11', axis=1, inplace=True)\n",
    "    dflm.drop('inverse12', axis=1, inplace=True)\n",
    "    dflm.drop('inverse20', axis=1, inplace=True)\n",
    "    dflm.drop('inverse21', axis=1, inplace=True)\n",
    "    dflm.drop('inverse22', axis=1, inplace=True)\n",
    "    dflm.drop('original', axis=1, inplace=True)\n",
    "    dflm.drop('inverse', axis=1, inplace=True)"
   ]
  },
  {
   "cell_type": "code",
   "execution_count": 17,
   "id": "e837f79e",
   "metadata": {},
   "outputs": [],
   "source": [
    "#generate random matrices\n",
    "def getMatrices():\n",
    "\n",
    "    matList = []\n",
    "    i = 1\n",
    "    while i < NumMatricesToGenerate:\n",
    "        if integersOnly: \n",
    "            matList.append(np.random.randint(minCellValue, maxCellValue+1, (matrixSize, matrixSize))) \n",
    "        else:\n",
    "            matList.append(np.random.uniform(minCellValue, maxCellValue+1, (matrixSize, matrixSize))) \n",
    "        i += 1\n",
    "        \n",
    "    return matList"
   ]
  },
  {
   "cell_type": "code",
   "execution_count": 18,
   "id": "d8e715d6",
   "metadata": {},
   "outputs": [],
   "source": [
    "#generate inverse matrices\n",
    "def getInverses(matList):\n",
    "\n",
    "    invList = []\n",
    "    for x in matList:\n",
    "        try:\n",
    "            inverse = np.linalg.inv(x)\n",
    "            invList.append([x, inverse])\n",
    "        except np.linalg.LinAlgError:\n",
    "        # Not invertible. Skip this one.\n",
    "            pass\n",
    "        \n",
    "    return invList"
   ]
  },
  {
   "cell_type": "code",
   "execution_count": 19,
   "id": "97897f70",
   "metadata": {},
   "outputs": [],
   "source": [
    "#get dataframe of matrices and inverses\n",
    "def getdf(invList):\n",
    "\n",
    "    df = pd.DataFrame(data=invList)\n",
    "    df.columns = ['original', 'inverse']\n",
    "    \n",
    "    return df"
   ]
  },
  {
   "cell_type": "code",
   "execution_count": 20,
   "id": "7acd4565",
   "metadata": {},
   "outputs": [],
   "source": [
    "#update dataframe - this code has been verified in LinearRegressionMatrixInverse.ipynb along with the reasons \n",
    "#for running this code\n",
    "def updatedf(df):\n",
    "    \n",
    "    for i in listVar:\n",
    "        for j in listVar:\n",
    "            df['original'+str(i)+str(j)] = df.apply(lambda row: row['original'][i][j], axis=1)\n",
    "\n",
    "    for i in listVar:\n",
    "        for j in listVar:\n",
    "            df['inverse'+str(i)+str(j)] = df.apply(lambda row: row['inverse'][i][j], axis=1)\n",
    "\n",
    "    #remove the extreme values we saw in LinearRegressionMatrixInverse.ipynb when generating inverse matrices\n",
    "    df = df.loc[df['inverse00'] > inverseRangeMin]\n",
    "    df = df.loc[df['inverse00'] < inverseRangeMax]\n",
    "    df = df.loc[df['inverse01'] > inverseRangeMin]\n",
    "    df = df.loc[df['inverse01'] < inverseRangeMax]\n",
    "    df = df.loc[df['inverse02'] > inverseRangeMin]\n",
    "    df = df.loc[df['inverse02'] < inverseRangeMax]\n",
    "    df = df.loc[df['inverse10'] > inverseRangeMin]\n",
    "    df = df.loc[df['inverse10'] < inverseRangeMax]\n",
    "    df = df.loc[df['inverse11'] > inverseRangeMin]\n",
    "    df = df.loc[df['inverse11'] < inverseRangeMax]\n",
    "    df = df.loc[df['inverse12'] > inverseRangeMin]\n",
    "    df = df.loc[df['inverse12'] < inverseRangeMax]\n",
    "    df = df.loc[df['inverse20'] > inverseRangeMin]\n",
    "    df = df.loc[df['inverse20'] < inverseRangeMax]\n",
    "    df = df.loc[df['inverse21'] > inverseRangeMin]\n",
    "    df = df.loc[df['inverse21'] < inverseRangeMax]\n",
    "    df = df.loc[df['inverse22'] > inverseRangeMin]\n",
    "    df = df.loc[df['inverse22'] < inverseRangeMax]\n",
    "\n",
    "    #generate test 4 parameters\n",
    "    for i in listVar:\n",
    "        for j in listVar:\n",
    "            df['original00x'+str(i)+str(j)] = df.apply(lambda row: row['original'][i][j] * row['original'][0][0] * row['original'][0][0] , axis=1)\n",
    "\n",
    "    for i in listVar:\n",
    "        for j in listVar:\n",
    "            df['original01x'+str(i)+str(j)] = df.apply(lambda row: row['original'][i][j] * row['original'][0][1] * row['original'][0][1], axis=1)\n",
    "\n",
    "    for i in listVar:\n",
    "        for j in listVar:\n",
    "            df['original02x'+str(i)+str(j)] = df.apply(lambda row: row['original'][i][j] * row['original'][0][2] * row['original'][0][2], axis=1)\n",
    "\n",
    "    for i in listVar:\n",
    "        for j in listVar:\n",
    "            df['original10x'+str(i)+str(j)] = df.apply(lambda row: row['original'][i][j] * row['original'][1][0] * row['original'][1][0], axis=1)\n",
    "\n",
    "    for i in listVar:\n",
    "        for j in listVar:\n",
    "            df['original11x'+str(i)+str(j)] = df.apply(lambda row: row['original'][i][j] * row['original'][1][1] * row['original'][1][1], axis=1)\n",
    "\n",
    "    for i in listVar:\n",
    "        for j in listVar:\n",
    "            df['original12x'+str(i)+str(j)] = df.apply(lambda row: row['original'][i][j] * row['original'][1][2] * row['original'][1][2], axis=1)\n",
    "\n",
    "    for i in listVar:\n",
    "        for j in listVar:\n",
    "            df['original20x'+str(i)+str(j)] = df.apply(lambda row: row['original'][i][j] * row['original'][2][0] * row['original'][2][0], axis=1)\n",
    "\n",
    "    for i in listVar:\n",
    "        for j in listVar:\n",
    "            df['original21x'+str(i)+str(j)] = df.apply(lambda row: row['original'][i][j] * row['original'][2][1] * row['original'][2][1], axis=1)\n",
    "\n",
    "    for i in listVar:\n",
    "        for j in listVar:\n",
    "            df['original22x'+str(i)+str(j)] = df.apply(lambda row: row['original'][i][j] * row['original'][2][2] * row['original'][1][2], axis=1)\n",
    "      \n",
    "    return df"
   ]
  },
  {
   "cell_type": "code",
   "execution_count": 21,
   "id": "25a9e0b7",
   "metadata": {},
   "outputs": [],
   "source": [
    "#create a results dataframe\n",
    "def createResultsDf():\n",
    "    return pd.DataFrame(columns=['cell00', 'cell01', 'cell02','cell10', 'cell11', 'cell12','cell20', 'cell21', 'cell22'])"
   ]
  },
  {
   "cell_type": "code",
   "execution_count": null,
   "id": "dd824954",
   "metadata": {},
   "outputs": [],
   "source": []
  },
  {
   "cell_type": "markdown",
   "id": "8adad7b8",
   "metadata": {},
   "source": [
    "## Step 3: Test Loop Section"
   ]
  },
  {
   "cell_type": "code",
   "execution_count": 22,
   "id": "b055d383",
   "metadata": {},
   "outputs": [
    {
     "name": "stderr",
     "output_type": "stream",
     "text": [
      "C:\\Users\\User\\anaconda3\\Lib\\site-packages\\scipy\\stats\\_stats_py.py:4141: DegenerateDataWarning: all input arrays have length 1.  f_oneway requires that at least one input has length greater than 1.\n",
      "  warnings.warn(stats.DegenerateDataWarning(msg))\n"
     ]
    },
    {
     "name": "stdout",
     "output_type": "stream",
     "text": [
      "iteration: 1     pvalue: nan\n",
      "iteration: 2     pvalue: 0.8138990821507781\n",
      "iteration: 3     pvalue: 0.6090767166341919\n",
      "iteration: 4     pvalue: 0.6854056317953394\n",
      "iteration: 5     pvalue: 0.6107379239694428\n",
      "iteration: 6     pvalue: 0.6720838748951641\n",
      "iteration: 7     pvalue: 0.6775249974146156\n",
      "iteration: 8     pvalue: 0.8784417105273615\n",
      "iteration: 9     pvalue: 0.7367885232048015\n",
      "iteration: 10     pvalue: 0.6946099014370724\n",
      "iteration: 11     pvalue: 0.5988044984503317\n",
      "iteration: 12     pvalue: 0.5432712359666927\n",
      "iteration: 13     pvalue: 0.3464405850275156\n",
      "iteration: 14     pvalue: 0.3754856168212712\n",
      "iteration: 15     pvalue: 0.3673185652262792\n",
      "iteration: 16     pvalue: 0.2959244276745973\n",
      "iteration: 17     pvalue: 0.34433977627047213\n",
      "iteration: 18     pvalue: 0.3794152438313576\n",
      "iteration: 19     pvalue: 0.28317256333638424\n",
      "iteration: 20     pvalue: 0.4206195558691897\n",
      "iteration: 21     pvalue: 0.33690071956461987\n",
      "iteration: 22     pvalue: 0.1520127133774178\n",
      "iteration: 23     pvalue: 0.17424665329479574\n",
      "iteration: 24     pvalue: 0.1270330074368763\n",
      "iteration: 25     pvalue: 0.09438142660948468\n",
      "iteration: 26     pvalue: 0.07864288177927865\n",
      "iteration: 27     pvalue: 0.07603679958859226\n",
      "iteration: 28     pvalue: 0.047695079894272754\n"
     ]
    }
   ],
   "source": [
    "#Code for generating results\n",
    "#run the Test4 fit code successively until a p value <=0.05 is generated from the result set\n",
    "#compile all results into df_results dataframe for analysis\n",
    "index=0\n",
    "pvalue = 999\n",
    "df_results = createResultsDf()\n",
    "\n",
    "while(True):\n",
    "    \n",
    "    #random seed is fixed at top so new matrices will be new generated values\n",
    "    \n",
    "    matList = getMatrices()\n",
    "    \n",
    "    invList = getInverses(matList)\n",
    "    \n",
    "    df = getdf(invList)\n",
    "    \n",
    "    df = updatedf(df)\n",
    "    \n",
    "    test4fit = []\n",
    "\n",
    "    #get rsquared value for the linear regression\n",
    "    for i in listVar:\n",
    "        for j in listVar:\n",
    "            dfl = df.copy()\n",
    "            y = dfl['inverse'+str(i)+str(j)]\n",
    "            dropCols(dfl)\n",
    "            X = dfl[dfl.columns]\n",
    "            X_withconstant = sm.add_constant(X)\n",
    "            lm = sm.OLS(y,X_withconstant)\n",
    "            fit4 = lm.fit()\n",
    "            test4fit.append(fit4.rsquared)\n",
    "            \n",
    "    #concatenate the results\n",
    "    if index>0:\n",
    "        s_row = pd.Series(test4fit, index=df_results.columns)\n",
    "        df_results = pd.concat([df_results, s_row.to_frame().T])\n",
    "        data = []\n",
    "        for x in df_results.columns:\n",
    "            data.append(df_results[x])\n",
    "\n",
    "        a,p = stats.f_oneway(*data)\n",
    "        print('iteration: ' + str(index) + '     ' + 'pvalue: ' + str(p))\n",
    "        if(p<=pvaluecutoff):\n",
    "            pvalue = p\n",
    "            break\n",
    "            \n",
    "    index = index + 1"
   ]
  },
  {
   "cell_type": "markdown",
   "id": "a09efe58",
   "metadata": {},
   "source": [
    "<b><font style='color:blue'>Interesting how the p value does not always decrease with more data, this demonstrates the highly nonlinear aspects of test 4 linear regressions on this dataset for the various inverse cells. The warning is expected as we cannot check stats when there is only one data group</font></b>"
   ]
  },
  {
   "cell_type": "code",
   "execution_count": null,
   "id": "460d90aa",
   "metadata": {},
   "outputs": [],
   "source": []
  },
  {
   "cell_type": "markdown",
   "id": "cb473f58",
   "metadata": {},
   "source": [
    "## Step 4: Results Analysis"
   ]
  },
  {
   "cell_type": "code",
   "execution_count": 23,
   "id": "a06e5dd5",
   "metadata": {},
   "outputs": [
    {
     "data": {
      "text/html": [
       "<div>\n",
       "<style scoped>\n",
       "    .dataframe tbody tr th:only-of-type {\n",
       "        vertical-align: middle;\n",
       "    }\n",
       "\n",
       "    .dataframe tbody tr th {\n",
       "        vertical-align: top;\n",
       "    }\n",
       "\n",
       "    .dataframe thead th {\n",
       "        text-align: right;\n",
       "    }\n",
       "</style>\n",
       "<table border=\"1\" class=\"dataframe\">\n",
       "  <thead>\n",
       "    <tr style=\"text-align: right;\">\n",
       "      <th></th>\n",
       "      <th>cell00</th>\n",
       "      <th>cell01</th>\n",
       "      <th>cell02</th>\n",
       "      <th>cell10</th>\n",
       "      <th>cell11</th>\n",
       "      <th>cell12</th>\n",
       "      <th>cell20</th>\n",
       "      <th>cell21</th>\n",
       "      <th>cell22</th>\n",
       "    </tr>\n",
       "  </thead>\n",
       "  <tbody>\n",
       "    <tr>\n",
       "      <th>count</th>\n",
       "      <td>28.000000</td>\n",
       "      <td>28.000000</td>\n",
       "      <td>28.000000</td>\n",
       "      <td>28.000000</td>\n",
       "      <td>28.000000</td>\n",
       "      <td>28.000000</td>\n",
       "      <td>28.000000</td>\n",
       "      <td>28.000000</td>\n",
       "      <td>28.000000</td>\n",
       "    </tr>\n",
       "    <tr>\n",
       "      <th>mean</th>\n",
       "      <td>0.045511</td>\n",
       "      <td>0.043836</td>\n",
       "      <td>0.046612</td>\n",
       "      <td>0.048092</td>\n",
       "      <td>0.044894</td>\n",
       "      <td>0.044404</td>\n",
       "      <td>0.044387</td>\n",
       "      <td>0.044473</td>\n",
       "      <td>0.042180</td>\n",
       "    </tr>\n",
       "    <tr>\n",
       "      <th>std</th>\n",
       "      <td>0.007784</td>\n",
       "      <td>0.005138</td>\n",
       "      <td>0.005769</td>\n",
       "      <td>0.005169</td>\n",
       "      <td>0.006725</td>\n",
       "      <td>0.006130</td>\n",
       "      <td>0.005355</td>\n",
       "      <td>0.008815</td>\n",
       "      <td>0.004721</td>\n",
       "    </tr>\n",
       "    <tr>\n",
       "      <th>min</th>\n",
       "      <td>0.033163</td>\n",
       "      <td>0.032840</td>\n",
       "      <td>0.036707</td>\n",
       "      <td>0.040538</td>\n",
       "      <td>0.031779</td>\n",
       "      <td>0.032895</td>\n",
       "      <td>0.037419</td>\n",
       "      <td>0.029372</td>\n",
       "      <td>0.031658</td>\n",
       "    </tr>\n",
       "    <tr>\n",
       "      <th>25%</th>\n",
       "      <td>0.040634</td>\n",
       "      <td>0.040772</td>\n",
       "      <td>0.042096</td>\n",
       "      <td>0.044957</td>\n",
       "      <td>0.040942</td>\n",
       "      <td>0.040556</td>\n",
       "      <td>0.041192</td>\n",
       "      <td>0.039645</td>\n",
       "      <td>0.039780</td>\n",
       "    </tr>\n",
       "    <tr>\n",
       "      <th>50%</th>\n",
       "      <td>0.044477</td>\n",
       "      <td>0.044000</td>\n",
       "      <td>0.047621</td>\n",
       "      <td>0.047762</td>\n",
       "      <td>0.044244</td>\n",
       "      <td>0.043974</td>\n",
       "      <td>0.043282</td>\n",
       "      <td>0.043175</td>\n",
       "      <td>0.042367</td>\n",
       "    </tr>\n",
       "    <tr>\n",
       "      <th>75%</th>\n",
       "      <td>0.050223</td>\n",
       "      <td>0.047503</td>\n",
       "      <td>0.050642</td>\n",
       "      <td>0.050584</td>\n",
       "      <td>0.049717</td>\n",
       "      <td>0.048463</td>\n",
       "      <td>0.045878</td>\n",
       "      <td>0.047197</td>\n",
       "      <td>0.045347</td>\n",
       "    </tr>\n",
       "    <tr>\n",
       "      <th>max</th>\n",
       "      <td>0.063322</td>\n",
       "      <td>0.053971</td>\n",
       "      <td>0.059288</td>\n",
       "      <td>0.063421</td>\n",
       "      <td>0.058864</td>\n",
       "      <td>0.059637</td>\n",
       "      <td>0.057235</td>\n",
       "      <td>0.067461</td>\n",
       "      <td>0.050212</td>\n",
       "    </tr>\n",
       "  </tbody>\n",
       "</table>\n",
       "</div>"
      ],
      "text/plain": [
       "          cell00     cell01     cell02     cell10     cell11     cell12  \\\n",
       "count  28.000000  28.000000  28.000000  28.000000  28.000000  28.000000   \n",
       "mean    0.045511   0.043836   0.046612   0.048092   0.044894   0.044404   \n",
       "std     0.007784   0.005138   0.005769   0.005169   0.006725   0.006130   \n",
       "min     0.033163   0.032840   0.036707   0.040538   0.031779   0.032895   \n",
       "25%     0.040634   0.040772   0.042096   0.044957   0.040942   0.040556   \n",
       "50%     0.044477   0.044000   0.047621   0.047762   0.044244   0.043974   \n",
       "75%     0.050223   0.047503   0.050642   0.050584   0.049717   0.048463   \n",
       "max     0.063322   0.053971   0.059288   0.063421   0.058864   0.059637   \n",
       "\n",
       "          cell20     cell21     cell22  \n",
       "count  28.000000  28.000000  28.000000  \n",
       "mean    0.044387   0.044473   0.042180  \n",
       "std     0.005355   0.008815   0.004721  \n",
       "min     0.037419   0.029372   0.031658  \n",
       "25%     0.041192   0.039645   0.039780  \n",
       "50%     0.043282   0.043175   0.042367  \n",
       "75%     0.045878   0.047197   0.045347  \n",
       "max     0.057235   0.067461   0.050212  "
      ]
     },
     "execution_count": 23,
     "metadata": {},
     "output_type": "execute_result"
    }
   ],
   "source": [
    "df_results.describe()"
   ]
  },
  {
   "cell_type": "markdown",
   "id": "507abe40",
   "metadata": {},
   "source": [
    "<b><font style='color:blue'>This table shows the mean and standard deviations for each cell - the RSquared values are specified</font></b>"
   ]
  },
  {
   "cell_type": "code",
   "execution_count": 24,
   "id": "65922cde",
   "metadata": {},
   "outputs": [
    {
     "name": "stdout",
     "output_type": "stream",
     "text": [
      "The p value for these results is: 0.047695079894272754\n"
     ]
    }
   ],
   "source": [
    "print('The p value for these results is: '+ str(pvalue))"
   ]
  },
  {
   "cell_type": "code",
   "execution_count": 25,
   "id": "cb31fcef",
   "metadata": {},
   "outputs": [
    {
     "name": "stdout",
     "output_type": "stream",
     "text": [
      "rsquared means for cells:\n",
      "cell00    0.045511\n",
      "cell01    0.043836\n",
      "cell02    0.046612\n",
      "cell10    0.048092\n",
      "cell11    0.044894\n",
      "cell12    0.044404\n",
      "cell20    0.044387\n",
      "cell21    0.044473\n",
      "cell22    0.042180\n",
      "dtype: float64 \n",
      "\n",
      "rsquared standard deviations for cells:\n",
      "cell00    0.007784\n",
      "cell01    0.005138\n",
      "cell02    0.005769\n",
      "cell10    0.005169\n",
      "cell11    0.006725\n",
      "cell12    0.006130\n",
      "cell20    0.005355\n",
      "cell21    0.008815\n",
      "cell22    0.004721\n",
      "dtype: float64\n"
     ]
    }
   ],
   "source": [
    "print('rsquared means for cells:\\n' + str(df_results.mean()), '\\n\\nrsquared standard deviations for cells:\\n' + str(df_results.std()))"
   ]
  },
  {
   "cell_type": "code",
   "execution_count": 26,
   "id": "6a290c6f",
   "metadata": {},
   "outputs": [
    {
     "data": {
      "text/plain": [
       "<Axes: title={'center': 'Mean RSquared Value for each cell - 3501 matrices\\nminCellValue: 0 maxCellValue: 6 number of iterations: 29\\nrandomSeed: 99911'}, xlabel='Cell', ylabel='RSquared'>"
      ]
     },
     "execution_count": 26,
     "metadata": {},
     "output_type": "execute_result"
    },
    {
     "data": {
      "image/png": "[encoded data removed]",
      "text/plain": [
       "<Figure size 640x480 with 1 Axes>"
      ]
     },
     "metadata": {},
     "output_type": "display_data"
    }
   ],
   "source": [
    "df_results.mean().plot(kind='bar', title = 'Mean RSquared Value for each cell - '+str(NumMatricesToGenerate)+' matrices\\nminCellValue: '+str(minCellValue)+' maxCellValue: '+str(maxCellValue)+' number of iterations: '+str(index+1)+'\\nrandomSeed: '+str(randomSeed), ylabel='RSquared', xlabel='Cell', rot=0)"
   ]
  },
  {
   "cell_type": "code",
   "execution_count": 27,
   "id": "f6c4cbdb",
   "metadata": {},
   "outputs": [
    {
     "data": {
      "text/plain": [
       "<Axes: title={'center': 'Standard Deviation of RSquared for Each Cell - 3501 matrices\\nminCellValue: 0 maxCellValue: 6 number of iterations: 29\\nrandomSeed: 99911'}, xlabel='Cell', ylabel='RSquared Standard Deviation'>"
      ]
     },
     "execution_count": 27,
     "metadata": {},
     "output_type": "execute_result"
    },
    {
     "data": {
      "image/png": "[encoded data removed]",
      "text/plain": [
       "<Figure size 640x480 with 1 Axes>"
      ]
     },
     "metadata": {},
     "output_type": "display_data"
    }
   ],
   "source": [
    "df_results.std().plot(kind='bar', title='Standard Deviation of RSquared for Each Cell - '+str(NumMatricesToGenerate)+' matrices\\nminCellValue: '+str(minCellValue)+' maxCellValue: '+str(maxCellValue)+' number of iterations: '+str(index+1)+'\\nrandomSeed: '+str(randomSeed), ylabel='RSquared Standard Deviation', xlabel='Cell', rot=0)"
   ]
  },
  {
   "cell_type": "code",
   "execution_count": 28,
   "id": "65f0981b",
   "metadata": {},
   "outputs": [
    {
     "name": "stdout",
     "output_type": "stream",
     "text": [
      "The RSquared value accross all cells is 0.04493217382821743 - 3501 matrices - minCellValue: 0 maxCellValue: 6 randomSeed: 99911\n"
     ]
    }
   ],
   "source": [
    "print('The RSquared value accross all cells is '+ str(df_results.mean().mean()) + ' - '+str(NumMatricesToGenerate)+' matrices - minCellValue: '+str(minCellValue)+' maxCellValue: '+str(maxCellValue)+' randomSeed: '+str(randomSeed))"
   ]
  },
  {
   "cell_type": "code",
   "execution_count": null,
   "id": "1b79868f",
   "metadata": {},
   "outputs": [],
   "source": []
  },
  {
   "cell_type": "markdown",
   "id": "30648e36",
   "metadata": {},
   "source": [
    "## Step 5: Conclusion"
   ]
  },
  {
   "cell_type": "markdown",
   "id": "334e831b",
   "metadata": {},
   "source": [
    "<b><font style='color:blue'>The p value tells us that the means are valid and we can reject the null hypothesis, meaning there is enough data to justify this mean<br><br>These are the mean and standard deviation of the R Squared values I can achieve for each cell for test 4<br><br>They are not big enough for a suitiable linear regression so there is no need to make a model<br><br>I will move on to Neural Networks for a better model</font></b>"
   ]
  },
  {
   "cell_type": "markdown",
   "id": "1a19877e",
   "metadata": {},
   "source": [
    "<b><font style='color:red'>I have compiled various results for different min max values, and number of matrices. PLease see AutomatedTesting.pdf</font></b>"
   ]
  },
  {
   "cell_type": "code",
   "execution_count": null,
   "id": "82fc2460",
   "metadata": {},
   "outputs": [],
   "source": []
  },
  {
   "cell_type": "code",
   "execution_count": null,
   "id": "b3964cd6",
   "metadata": {},
   "outputs": [],
   "source": []
  }
 ],
 "metadata": {
  "kernelspec": {
   "display_name": "Python 3 (ipykernel)",
   "language": "python",
   "name": "python3"
  },
  "language_info": {
   "codemirror_mode": {
    "name": "ipython",
    "version": 3
   },
   "file_extension": ".py",
   "mimetype": "text/x-python",
   "name": "python",
   "nbconvert_exporter": "python",
   "pygments_lexer": "ipython3",
   "version": "3.11.5"
  }
 },
 "nbformat": 4,
 "nbformat_minor": 5
}
